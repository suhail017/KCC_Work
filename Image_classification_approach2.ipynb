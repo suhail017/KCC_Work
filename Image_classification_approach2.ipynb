{
 "cells": [
  {
   "cell_type": "code",
   "execution_count": 195,
   "id": "93031e30",
   "metadata": {},
   "outputs": [
    {
     "name": "stdout",
     "output_type": "stream",
     "text": [
      "(779, 32, 32, 3) (779,)\n"
     ]
    }
   ],
   "source": [
    "# load dogs vs cats dataset, reshape and save to a new file\n",
    "from tensorflow.keras.preprocessing import image\n",
    "from os import makedirs\n",
    "from os import listdir\n",
    "from numpy import asarray\n",
    "from numpy import save\n",
    "from tensorflow.keras.utils import load_img\n",
    "import random\n",
    "\n",
    "#from keras.preprocessing.image import img_to_array\n",
    "# define location of dataset\n",
    "folder = 'train/'\n",
    "photos, labels = list(), list()\n",
    "# enumerate files in the directory\n",
    "for file in listdir(folder):\n",
    "\t# determine class\n",
    "\toutput = 1.0\n",
    "\tif file.startswith('artifacts'):\n",
    "\t\toutput = 0.0\n",
    "\t# load image\n",
    "\tphoto = load_img(folder + file, target_size=(32, 32))\n",
    "\t# convert to numpy array\n",
    "\tphoto = image.img_to_array(photo)\n",
    "\t# store\n",
    "\tphotos.append(photo)\n",
    "\tlabels.append(output)\n",
    "# convert to a numpy arrays\n",
    "photos = asarray(photos)\n",
    "labels = asarray(labels)\n",
    "print(photos.shape, labels.shape)\n",
    "# save the reshaped photos\n",
    "save('artifacts_vs_real_photos.npy', photos)\n",
    "save('artifacts_vs_real_labels.npy', labels)"
   ]
  },
  {
   "cell_type": "code",
   "execution_count": 196,
   "id": "ae373703",
   "metadata": {},
   "outputs": [],
   "source": [
    "from tensorflow.keras.utils import load_img"
   ]
  },
  {
   "cell_type": "code",
   "execution_count": 197,
   "id": "6e830016",
   "metadata": {},
   "outputs": [
    {
     "name": "stdout",
     "output_type": "stream",
     "text": [
      "(779, 32, 32, 3) (779,)\n"
     ]
    }
   ],
   "source": [
    "# load and confirm the shape\n",
    "from numpy import load\n",
    "photos = load('artifacts_vs_real_photos.npy')\n",
    "labels = load('artifacts_vs_real_labels.npy')\n",
    "print(photos.shape, labels.shape)"
   ]
  },
  {
   "cell_type": "code",
   "execution_count": 198,
   "id": "cb521c27",
   "metadata": {},
   "outputs": [],
   "source": [
    "# organize dataset into a useful structure\n",
    "from os import makedirs\n",
    "from os import listdir\n",
    "from shutil import copyfile\n",
    "from random import seed\n",
    "from random import random\n",
    "\n",
    "# create directories\n",
    "dataset_home = 'dataset_artifacts_vs_real/'\n",
    "subdirs = ['train/', 'test/']\n",
    "for subdir in subdirs:\n",
    "\t# create label subdirectories\n",
    "\tlabeldirs = ['artifacts/', 'real/']\n",
    "\tfor labldir in labeldirs:\n",
    "\t\tnewdir = dataset_home + subdir + labldir\n",
    "\t\tmakedirs(newdir, exist_ok=True)"
   ]
  },
  {
   "cell_type": "code",
   "execution_count": 199,
   "id": "6c788b45",
   "metadata": {},
   "outputs": [],
   "source": [
    "# seed random number generator\n",
    "seed(1)\n",
    "# define ratio of pictures to use for validation\n",
    "val_ratio = 0.25\n",
    "# copy training dataset images into subdirectories\n",
    "src_directory = 'train/'\n",
    "for file in listdir(src_directory):\n",
    "\tsrc = src_directory + '/' + file\n",
    "\tdst_dir = 'train/'\n",
    "\tif random() < val_ratio:\n",
    "\t\tdst_dir = 'test/'\n",
    "\tif file.startswith('artifacts'):\n",
    "\t\tdst = dataset_home + dst_dir + 'artifacts/'  + file\n",
    "\t\tcopyfile(src, dst)\n",
    "\telif file.startswith('real'):\n",
    "\t\tdst = dataset_home + dst_dir + 'real/'  + file\n",
    "\t\tcopyfile(src, dst)"
   ]
  },
  {
   "cell_type": "code",
   "execution_count": 235,
   "id": "55d4b164",
   "metadata": {},
   "outputs": [
    {
     "name": "stdout",
     "output_type": "stream",
     "text": [
      "Found 778 images belonging to 2 classes.\n",
      "Found 360 images belonging to 2 classes.\n",
      "Epoch 1/50\n"
     ]
    },
    {
     "name": "stderr",
     "output_type": "stream",
     "text": [
      "C:\\Users\\smahmud\\AppData\\Local\\Temp/ipykernel_23448/4132628333.py:64: UserWarning: `Model.fit_generator` is deprecated and will be removed in a future version. Please use `Model.fit`, which supports generators.\n",
      "  history = model.fit_generator(train_it, steps_per_epoch=len(train_it),\n"
     ]
    },
    {
     "name": "stdout",
     "output_type": "stream",
     "text": [
      "13/13 [==============================] - 2s 130ms/step - loss: 0.5329 - accuracy: 0.6915 - val_loss: 0.6208 - val_accuracy: 0.6000\n",
      "Epoch 2/50\n",
      "13/13 [==============================] - 1s 112ms/step - loss: 0.4622 - accuracy: 0.8290 - val_loss: 0.5249 - val_accuracy: 0.6250\n",
      "Epoch 3/50\n",
      "13/13 [==============================] - 1s 116ms/step - loss: 0.4097 - accuracy: 0.8496 - val_loss: 0.4997 - val_accuracy: 0.6333\n",
      "Epoch 4/50\n",
      "13/13 [==============================] - 1s 113ms/step - loss: 0.3720 - accuracy: 0.8650 - val_loss: 0.4959 - val_accuracy: 0.6333\n",
      "Epoch 5/50\n",
      "13/13 [==============================] - 1s 115ms/step - loss: 0.3447 - accuracy: 0.8805 - val_loss: 0.4493 - val_accuracy: 0.6639\n",
      "Epoch 6/50\n",
      "13/13 [==============================] - 1s 113ms/step - loss: 0.3248 - accuracy: 0.9203 - val_loss: 0.4127 - val_accuracy: 0.7750\n",
      "Epoch 7/50\n",
      "13/13 [==============================] - 2s 114ms/step - loss: 0.3031 - accuracy: 0.9537 - val_loss: 0.3998 - val_accuracy: 0.7806\n",
      "Epoch 8/50\n",
      "13/13 [==============================] - 1s 110ms/step - loss: 0.2885 - accuracy: 0.9537 - val_loss: 0.3388 - val_accuracy: 0.9750\n",
      "Epoch 9/50\n",
      "13/13 [==============================] - 2s 119ms/step - loss: 0.2784 - accuracy: 0.9794 - val_loss: 0.3372 - val_accuracy: 0.9583\n",
      "Epoch 10/50\n",
      "13/13 [==============================] - 1s 111ms/step - loss: 0.2701 - accuracy: 0.9653 - val_loss: 0.3212 - val_accuracy: 0.9639\n",
      "Epoch 11/50\n",
      "13/13 [==============================] - 2s 115ms/step - loss: 0.2553 - accuracy: 0.9781 - val_loss: 0.3508 - val_accuracy: 0.8750\n",
      "Epoch 12/50\n",
      "13/13 [==============================] - 1s 109ms/step - loss: 0.2469 - accuracy: 0.9807 - val_loss: 0.3134 - val_accuracy: 0.9611\n",
      "Epoch 13/50\n",
      "13/13 [==============================] - 1s 112ms/step - loss: 0.2398 - accuracy: 0.9884 - val_loss: 0.2880 - val_accuracy: 0.9750\n",
      "Epoch 14/50\n",
      "13/13 [==============================] - 2s 117ms/step - loss: 0.2339 - accuracy: 0.9859 - val_loss: 0.2812 - val_accuracy: 0.9722\n",
      "Epoch 15/50\n",
      "13/13 [==============================] - 1s 116ms/step - loss: 0.2246 - accuracy: 0.9871 - val_loss: 0.2683 - val_accuracy: 0.9778\n",
      "Epoch 16/50\n",
      "13/13 [==============================] - 1s 103ms/step - loss: 0.2176 - accuracy: 0.9923 - val_loss: 0.2794 - val_accuracy: 0.9667\n",
      "Epoch 17/50\n",
      "13/13 [==============================] - 1s 105ms/step - loss: 0.2142 - accuracy: 0.9974 - val_loss: 0.2680 - val_accuracy: 0.9694\n",
      "Epoch 18/50\n",
      "13/13 [==============================] - 1s 108ms/step - loss: 0.2083 - accuracy: 0.9884 - val_loss: 0.2600 - val_accuracy: 0.9750\n",
      "Epoch 19/50\n",
      "13/13 [==============================] - 1s 110ms/step - loss: 0.2019 - accuracy: 0.9923 - val_loss: 0.2602 - val_accuracy: 0.9694\n",
      "Epoch 20/50\n",
      "13/13 [==============================] - 1s 119ms/step - loss: 0.1988 - accuracy: 0.9961 - val_loss: 0.2332 - val_accuracy: 0.9861\n",
      "Epoch 21/50\n",
      "13/13 [==============================] - 2s 119ms/step - loss: 0.1954 - accuracy: 0.9936 - val_loss: 0.2394 - val_accuracy: 0.9778\n",
      "Epoch 22/50\n",
      "13/13 [==============================] - 2s 116ms/step - loss: 0.1939 - accuracy: 0.9961 - val_loss: 0.2255 - val_accuracy: 0.9861\n",
      "Epoch 23/50\n",
      "13/13 [==============================] - 1s 114ms/step - loss: 0.1890 - accuracy: 0.9936 - val_loss: 0.2260 - val_accuracy: 0.9806\n",
      "Epoch 24/50\n",
      "13/13 [==============================] - 2s 117ms/step - loss: 0.1854 - accuracy: 0.9961 - val_loss: 0.2304 - val_accuracy: 0.9750\n",
      "Epoch 25/50\n",
      "13/13 [==============================] - 1s 110ms/step - loss: 0.1839 - accuracy: 0.9974 - val_loss: 0.2161 - val_accuracy: 0.9833\n",
      "Epoch 26/50\n",
      "13/13 [==============================] - 1s 112ms/step - loss: 0.1795 - accuracy: 0.9974 - val_loss: 0.2094 - val_accuracy: 0.9861\n",
      "Epoch 27/50\n",
      "13/13 [==============================] - 1s 112ms/step - loss: 0.1781 - accuracy: 0.9949 - val_loss: 0.2269 - val_accuracy: 0.9750\n",
      "Epoch 28/50\n",
      "13/13 [==============================] - 1s 112ms/step - loss: 0.1742 - accuracy: 0.9949 - val_loss: 0.1885 - val_accuracy: 0.9917\n",
      "Epoch 29/50\n",
      "13/13 [==============================] - 1s 101ms/step - loss: 0.1759 - accuracy: 0.9961 - val_loss: 0.1955 - val_accuracy: 0.9861\n",
      "Epoch 30/50\n",
      "13/13 [==============================] - 1s 104ms/step - loss: 0.1686 - accuracy: 0.9987 - val_loss: 0.1931 - val_accuracy: 0.9861\n",
      "Epoch 31/50\n",
      "13/13 [==============================] - 1s 110ms/step - loss: 0.1683 - accuracy: 0.9949 - val_loss: 0.1741 - val_accuracy: 0.9917\n",
      "Epoch 32/50\n",
      "13/13 [==============================] - 1s 110ms/step - loss: 0.1665 - accuracy: 0.9961 - val_loss: 0.1814 - val_accuracy: 0.9889\n",
      "Epoch 33/50\n",
      "13/13 [==============================] - 2s 124ms/step - loss: 0.1625 - accuracy: 0.9949 - val_loss: 0.1821 - val_accuracy: 0.9889\n",
      "Epoch 34/50\n",
      "13/13 [==============================] - 1s 106ms/step - loss: 0.1620 - accuracy: 0.9974 - val_loss: 0.1780 - val_accuracy: 0.9889\n",
      "Epoch 35/50\n",
      "13/13 [==============================] - 1s 111ms/step - loss: 0.1607 - accuracy: 0.9974 - val_loss: 0.1756 - val_accuracy: 0.9889\n",
      "Epoch 36/50\n",
      "13/13 [==============================] - 2s 121ms/step - loss: 0.1567 - accuracy: 0.9974 - val_loss: 0.1683 - val_accuracy: 0.9944\n",
      "Epoch 37/50\n",
      "13/13 [==============================] - 2s 118ms/step - loss: 0.1580 - accuracy: 0.9987 - val_loss: 0.1790 - val_accuracy: 0.9889\n",
      "Epoch 38/50\n",
      "13/13 [==============================] - 2s 117ms/step - loss: 0.1564 - accuracy: 0.9974 - val_loss: 0.1762 - val_accuracy: 0.9889\n",
      "Epoch 39/50\n",
      "13/13 [==============================] - 1s 106ms/step - loss: 0.1537 - accuracy: 0.9961 - val_loss: 0.1865 - val_accuracy: 0.9833\n",
      "Epoch 40/50\n",
      "13/13 [==============================] - 1s 108ms/step - loss: 0.1522 - accuracy: 0.9974 - val_loss: 0.1806 - val_accuracy: 0.9861\n",
      "Epoch 41/50\n",
      "13/13 [==============================] - 1s 112ms/step - loss: 0.1512 - accuracy: 0.9974 - val_loss: 0.1606 - val_accuracy: 0.9889\n",
      "Epoch 42/50\n",
      "13/13 [==============================] - 1s 113ms/step - loss: 0.1478 - accuracy: 0.9987 - val_loss: 0.1607 - val_accuracy: 0.9889\n",
      "Epoch 43/50\n",
      "13/13 [==============================] - 2s 119ms/step - loss: 0.1464 - accuracy: 0.9974 - val_loss: 0.1604 - val_accuracy: 0.9889\n",
      "Epoch 44/50\n",
      "13/13 [==============================] - 2s 118ms/step - loss: 0.1467 - accuracy: 0.9987 - val_loss: 0.1536 - val_accuracy: 0.9889\n",
      "Epoch 45/50\n",
      "13/13 [==============================] - 1s 113ms/step - loss: 0.1441 - accuracy: 0.9987 - val_loss: 0.1616 - val_accuracy: 0.9889\n",
      "Epoch 46/50\n",
      "13/13 [==============================] - 1s 111ms/step - loss: 0.1429 - accuracy: 0.9987 - val_loss: 0.1614 - val_accuracy: 0.9889\n",
      "Epoch 47/50\n",
      "13/13 [==============================] - 1s 110ms/step - loss: 0.1415 - accuracy: 0.9987 - val_loss: 0.1495 - val_accuracy: 0.9889\n",
      "Epoch 48/50\n",
      "13/13 [==============================] - 1s 111ms/step - loss: 0.1417 - accuracy: 0.9987 - val_loss: 0.1532 - val_accuracy: 0.9889\n",
      "Epoch 49/50\n",
      "13/13 [==============================] - 1s 109ms/step - loss: 0.1407 - accuracy: 0.9987 - val_loss: 0.1470 - val_accuracy: 0.9889\n",
      "Epoch 50/50\n",
      "13/13 [==============================] - 2s 116ms/step - loss: 0.1374 - accuracy: 0.9987 - val_loss: 0.1497 - val_accuracy: 0.9889\n",
      "2/6 [=========>....................] - ETA: 0s - loss: 0.1603 - accuracy: 1.0000"
     ]
    },
    {
     "name": "stderr",
     "output_type": "stream",
     "text": [
      "C:\\Users\\smahmud\\AppData\\Local\\Temp/ipykernel_23448/4132628333.py:69: UserWarning: `Model.evaluate_generator` is deprecated and will be removed in a future version. Please use `Model.evaluate`, which supports generators.\n",
      "  _, acc = model.evaluate_generator(test_it, steps=len(test_it), verbose=1)\n"
     ]
    },
    {
     "name": "stdout",
     "output_type": "stream",
     "text": [
      "6/6 [==============================] - 0s 43ms/step - loss: 0.1497 - accuracy: 0.9889\n",
      "> 98.889\n"
     ]
    },
    {
     "data": {
      "image/png": "[encoded data removed]",
      "text/plain": [
       "<Figure size 432x288 with 2 Axes>"
      ]
     },
     "metadata": {
      "needs_background": "light"
     },
     "output_type": "display_data"
    }
   ],
   "source": [
    "# baseline model for the dogs vs cats dataset\n",
    "import sys\n",
    "from matplotlib import pyplot\n",
    "from keras.utils import to_categorical\n",
    "from keras.models import Sequential\n",
    "from keras.layers import Conv2D\n",
    "from keras.layers import MaxPooling2D\n",
    "from keras.layers import Dense\n",
    "from keras.layers import Flatten\n",
    "from keras.optimizers import SGD\n",
    "from keras.preprocessing.image import ImageDataGenerator\n",
    "\n",
    "# define cnn model\n",
    "# This is a three block vgg model\n",
    "# Something wrong with the model. The NP values are showing higher than usal.\n",
    "def define_model():\n",
    "\tmodel = Sequential()\n",
    "\tmodel.add(Conv2D(32, (3, 3), activation='relu', kernel_initializer='he_uniform', padding='same', input_shape=(32, 32, 3)))\n",
    "\tmodel.add(MaxPooling2D((2, 2)))\n",
    "\tmodel.add(Conv2D(64, (3, 3), activation='relu', kernel_initializer='he_uniform', padding='same'))\n",
    "\tmodel.add(MaxPooling2D((2, 2)))\n",
    "\tmodel.add(Conv2D(128, (3, 3), activation='relu', kernel_initializer='he_uniform', padding='same'))\n",
    "\tmodel.add(MaxPooling2D((2, 2)))\n",
    "\tmodel.add(Flatten())\n",
    "\tmodel.add(Dense(128, activation='relu', kernel_initializer='he_uniform'))\n",
    "\tmodel.add(Dense(1, activation='sigmoid'))\n",
    "\t# compile model\n",
    "\topt = SGD(lr=0.001)\n",
    "\tmodel.compile(optimizer=opt, loss='binary_crossentropy', metrics=['accuracy'])\n",
    "\treturn model\n",
    "\n",
    "\n",
    "# plot diagnostic learning curves\n",
    "def summarize_diagnostics(history):\n",
    "\t# plot loss\n",
    "\tpyplot.subplot(211)\n",
    "\tpyplot.title('Cross Entropy Loss')\n",
    "\tpyplot.plot(history.history['loss'], color='blue', label='train')\n",
    "\tpyplot.plot(history.history['val_loss'], color='orange', label='test')\n",
    "\t# plot accuracy\n",
    "\tpyplot.subplot(212)\n",
    "\tpyplot.title('Classification Accuracy')\n",
    "\tpyplot.plot(history.history['accuracy'], color='blue', label='train')\n",
    "\tpyplot.plot(history.history['val_accuracy'], color='orange', label='test')\n",
    "\t# save plot to file\n",
    "\tfilename = sys.argv[0].split('/')[-1]\n",
    "\tpyplot.savefig(filename + '_plot.png')\n",
    "\tpyplot.show()\n",
    "\n",
    "# run the test harness for evaluating a model\n",
    "def run_test_harness():\n",
    "\t# define model\n",
    "\tmodel = define_model()\n",
    "\t# create data generators\n",
    "\ttrain_datagen = ImageDataGenerator(rescale=1.0/255.0,\n",
    "\t\twidth_shift_range=0.1, height_shift_range=0.1, horizontal_flip=True)\n",
    "\ttest_datagen = ImageDataGenerator(rescale=1.0/255.0)\n",
    "\t# prepare iterators\n",
    "\ttrain_it = train_datagen.flow_from_directory('dataset_artifacts_vs_real/train/',\n",
    "\t\tclass_mode='binary', batch_size=64, target_size=(32, 32))\n",
    "\ttest_it = test_datagen.flow_from_directory('dataset_artifacts_vs_real/test/',\n",
    "\t\tclass_mode='binary', batch_size=64, target_size=(32, 32))\n",
    "\t# fit model\n",
    "\thistory = model.fit_generator(train_it, steps_per_epoch=len(train_it),\n",
    "\t\tvalidation_data=test_it, validation_steps=len(test_it), epochs=50, verbose=1)\n",
    "    # save model\n",
    "\tmodel.save('final_model.h5')\n",
    "\t# evaluate model\n",
    "\t_, acc = model.evaluate_generator(test_it, steps=len(test_it), verbose=1)\n",
    "\tprint('> %.3f' % (acc * 100.0))\n",
    "\t# learning curves\n",
    "\tsummarize_diagnostics(history)\n",
    "\n",
    "# entry point, run the test harness\n",
    "run_test_harness()"
   ]
  },
  {
   "cell_type": "code",
   "execution_count": 238,
   "id": "60ee0d94",
   "metadata": {},
   "outputs": [
    {
     "name": "stdout",
     "output_type": "stream",
     "text": [
      "Model: \"sequential_14\"\n",
      "_________________________________________________________________\n",
      " Layer (type)                Output Shape              Param #   \n",
      "=================================================================\n",
      " conv2d_22 (Conv2D)          (None, 200, 200, 32)      896       \n",
      "                                                                 \n",
      " max_pooling2d_22 (MaxPoolin  (None, 100, 100, 32)     0         \n",
      " g2D)                                                            \n",
      "                                                                 \n",
      " conv2d_23 (Conv2D)          (None, 100, 100, 64)      18496     \n",
      "                                                                 \n",
      " max_pooling2d_23 (MaxPoolin  (None, 50, 50, 64)       0         \n",
      " g2D)                                                            \n",
      "                                                                 \n",
      " conv2d_24 (Conv2D)          (None, 50, 50, 128)       73856     \n",
      "                                                                 \n",
      " max_pooling2d_24 (MaxPoolin  (None, 25, 25, 128)      0         \n",
      " g2D)                                                            \n",
      "                                                                 \n",
      " flatten_14 (Flatten)        (None, 80000)             0         \n",
      "                                                                 \n",
      " dense_28 (Dense)            (None, 128)               10240128  \n",
      "                                                                 \n",
      " dense_29 (Dense)            (None, 1)                 129       \n",
      "                                                                 \n",
      "=================================================================\n",
      "Total params: 10,333,505\n",
      "Trainable params: 10,333,505\n",
      "Non-trainable params: 0\n",
      "_________________________________________________________________\n"
     ]
    }
   ],
   "source": [
    "# train_datagen = ImageDataGenerator(rescale=1.0/255.0,\n",
    "# \t\twidth_shift_range=0.1, height_shift_range=0.1, horizontal_flip=True)\n",
    "\n",
    "# train_it = train_datagen.flow_from_directory('dataset_artifacts_vs_real/train/',\n",
    "# \t\tclass_mode='binary', batch_size=64, target_size=(200, 200))\n",
    "\n",
    "# test_datagen = ImageDataGenerator(rescale=1.0/255.0)\n",
    "# test_it = test_datagen.flow_from_directory('dataset_artifacts_vs_real/test/',\n",
    "# \t\tclass_mode='binary', batch_size=64, target_size=(200, 200))\n",
    "\n",
    "# train_y=train_datagen.classes\n",
    "# train_y = train_it.classes\n",
    "# train_y.shape\n",
    "# y_test = test_it.classes\n",
    "# y_test.shape\n",
    "model.summary()"
   ]
  },
  {
   "cell_type": "code",
   "execution_count": 236,
   "id": "fcf243e6",
   "metadata": {},
   "outputs": [
    {
     "name": "stdout",
     "output_type": "stream",
     "text": [
      "6/6 [==============================] - 2s 230ms/step\n",
      "[0 0 0 0 0 0 0 0 0 0 0 0 0 0 0 0 0 0 0 0 0 0 0 0 0 0 0 0 0 0 0 0 0 0 0 0 0\n",
      " 0 0 0 0 0 0 0 0 0 0 0 0 0 0 0 0 0 0 0 0 0 0 0 0 0 0 0 0 0 0 0 0 0 0 0 0 0\n",
      " 0 0 0 0 0 0 0 0 0 0 0 0 0 0 0 0 0 0 0 0 0 0 0 0 0 0 0 0 0 0 0 0 0 0 0 0 0\n",
      " 0 0 0 0 0 0 0 0 0 0 0 0 0 0 0 0 0 0 0 0 0 0 0 0 0 0 0 0 0 0 0 0 0 0 0 0 0\n",
      " 0 0 0 0 0 0 0 0 0 0 0 0 0 0 0 0 0 0 0 0 0 0 0 0 0 0 0 0 0 0 0 0 0 0 0 0 0\n",
      " 0 0 0 0 0 0 0 0 0 0 0 0 0 0 0 0 0 0 0 0 0 0 0 0 0 0 0 0 0 0 0 0 0 0 0 0 0\n",
      " 0 0 0 0 0 0 0 0 0 0 0 0 0 0 0 0 0 0 0 0 0 0 0 0 0 0 0 0 0 0 0 0 0 0 0 0 0\n",
      " 0 0 0 0 0 0 0 0 0 0 0 0 0 0 0 0 0 0 0 0 0 0 0 0 0 0 0 0 0 0 0 0 0 0 0 0 0\n",
      " 0 0 0 0 0 0 0 0 0 0 0 0 0 0 0 0 0 0 0 0 0 0 0 0 0 0 0 0 0 0 0 0 0 0 0 0 0\n",
      " 0 0 0 0 0 0 0 0 0 0 0 0 0 0 0 0 0 0 0 0 0 0 0 0 0 0 0]\n",
      "              precision    recall  f1-score   support\n",
      "\n",
      "           0       1.00      0.43      0.60       360\n",
      "           1       0.00      0.00      0.00         0\n",
      "\n",
      "    accuracy                           0.43       360\n",
      "   macro avg       0.50      0.22      0.30       360\n",
      "weighted avg       1.00      0.43      0.60       360\n",
      "\n",
      "[[155 205]\n",
      " [  0   0]]\n"
     ]
    },
    {
     "name": "stderr",
     "output_type": "stream",
     "text": [
      "C:\\Users\\smahmud\\Anaconda3\\lib\\site-packages\\sklearn\\metrics\\_classification.py:1248: UndefinedMetricWarning: Recall and F-score are ill-defined and being set to 0.0 in labels with no true samples. Use `zero_division` parameter to control this behavior.\n",
      "  _warn_prf(average, modifier, msg_start, len(result))\n",
      "C:\\Users\\smahmud\\Anaconda3\\lib\\site-packages\\sklearn\\metrics\\_classification.py:1248: UndefinedMetricWarning: Recall and F-score are ill-defined and being set to 0.0 in labels with no true samples. Use `zero_division` parameter to control this behavior.\n",
      "  _warn_prf(average, modifier, msg_start, len(result))\n",
      "C:\\Users\\smahmud\\Anaconda3\\lib\\site-packages\\sklearn\\metrics\\_classification.py:1248: UndefinedMetricWarning: Recall and F-score are ill-defined and being set to 0.0 in labels with no true samples. Use `zero_division` parameter to control this behavior.\n",
      "  _warn_prf(average, modifier, msg_start, len(result))\n"
     ]
    }
   ],
   "source": [
    "from sklearn.metrics import accuracy_score,classification_report,confusion_matrix\n",
    "import numpy as np\n",
    "\n",
    "\n",
    "#model = load_model('final_model.h5')\n",
    "\n",
    "y_pred=model.predict(test_it)\n",
    "\n",
    "y_pred=np.argmax(y_pred,axis=1)\n",
    "print(y_pred)\n",
    "y_test = test_it.classes\n",
    "\n",
    "accuracy_score(y_pred,y_test)\n",
    "\n",
    "print(classification_report(y_pred,y_test))\n",
    "\n",
    "\n",
    "cf = confusion_matrix(y_pred,y_test)\n",
    "print(cf)"
   ]
  },
  {
   "cell_type": "code",
   "execution_count": 237,
   "id": "7cdc1eff",
   "metadata": {},
   "outputs": [
    {
     "data": {
      "image/png": "[encoded data removed]",
      "text/plain": [
       "<Figure size 432x288 with 2 Axes>"
      ]
     },
     "metadata": {
      "needs_background": "light"
     },
     "output_type": "display_data"
    }
   ],
   "source": [
    "import seaborn as sns\n",
    "\n",
    "ax = sns.heatmap(cf, annot=True, cmap='Blues')\n",
    "\n",
    "ax.set_title('Seaborn Confusion Matrix with labels\\n\\n');\n",
    "ax.set_xlabel('\\nPredicted Values')\n",
    "ax.set_ylabel('Actual Values ');\n",
    "\n",
    "## Ticket labels - List must be in alphabetical order\n",
    "ax.xaxis.set_ticklabels(['False','True'])\n",
    "ax.yaxis.set_ticklabels(['False','True'])\n",
    "\n",
    "## Display the visualization of the Confusion Matrix.\n",
    "plt.show()"
   ]
  },
  {
   "cell_type": "code",
   "execution_count": 103,
   "id": "b7cb0b47",
   "metadata": {},
   "outputs": [],
   "source": [
    "# save model\n",
    "#model.save('final_model.h5')"
   ]
  },
  {
   "cell_type": "code",
   "execution_count": 239,
   "id": "1270d1f0",
   "metadata": {},
   "outputs": [
    {
     "name": "stdout",
     "output_type": "stream",
     "text": [
      "1/1 [==============================] - 0s 44ms/step\n",
      "Artifacts\n"
     ]
    },
    {
     "data": {
      "image/png": "[encoded data removed]",
      "text/plain": [
       "<Figure size 432x288 with 1 Axes>"
      ]
     },
     "metadata": {
      "needs_background": "light"
     },
     "output_type": "display_data"
    }
   ],
   "source": [
    "from tensorflow.keras.preprocessing.image import load_img\n",
    "from tensorflow.keras.preprocessing.image import img_to_array\n",
    "from keras.models import load_model\n",
    "import matplotlib.pyplot as plt \n",
    "# load and prepare the image\n",
    "def load_image(filename):\n",
    "\t# load the image\n",
    "\timg = load_img(filename, target_size=(32,32))\n",
    "\tplt.imshow(img)\n",
    "\t# convert to array\n",
    "\timg = img_to_array(img)\n",
    "\t# reshape into a single sample with 3 channels\n",
    "\timg = img.reshape(1, 32, 32, 3)\n",
    "\t# center pixel data\n",
    "\timg = img.astype('float32')\n",
    "\t#img = img - [123.68, 116.779, 103.939]\n",
    "\t#plt.imshow(img)\n",
    "\treturn img\n",
    " \n",
    "# load an image and predict the class\n",
    "def run_example():\n",
    "\t# load the image\n",
    "\timg = load_image(r\"C:\\Users\\smahmud\\Documents\\Custom Office Templates\\savefiles\\suh_640_0.png\")\n",
    "\t# load model\n",
    "\tmodel = load_model('final_model.h5')\n",
    "\n",
    "\t# predict the class\n",
    "\tresult = model.predict(img)\n",
    "\t#print(result[0])\n",
    "\tif result[0]==0:\n",
    "\t\tprint(\"Artifacts\")\n",
    "\telse:\n",
    "\t\tprint(\"Real\")\n",
    "# entry point, run the example\n",
    "run_example()"
   ]
  }
 ],
 "metadata": {
  "kernelspec": {
   "display_name": "Python 3 (ipykernel)",
   "language": "python",
   "name": "python3"
  },
  "language_info": {
   "codemirror_mode": {
    "name": "ipython",
    "version": 3
   },
   "file_extension": ".py",
   "mimetype": "text/x-python",
   "name": "python",
   "nbconvert_exporter": "python",
   "pygments_lexer": "ipython3",
   "version": "3.9.7"
  }
 },
 "nbformat": 4,
 "nbformat_minor": 5
}
